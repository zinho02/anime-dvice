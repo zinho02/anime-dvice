{
 "cells": [
  {
   "cell_type": "code",
   "execution_count": 1,
   "id": "2c43e380",
   "metadata": {},
   "outputs": [],
   "source": [
    "from preparation_lib import *\n",
    "\n",
    "import numpy as np\n",
    "import pandas as pd\n",
    "import math"
   ]
  },
  {
   "cell_type": "code",
   "execution_count": 2,
   "id": "fba8a5ab",
   "metadata": {},
   "outputs": [
    {
     "name": "stderr",
     "output_type": "stream",
     "text": [
      "/home/ggiacomoni/ufsc/datamining/data-mining/src/data_preparation/preparation_lib.py:126: FutureWarning: Columnar iteration over characters will be deprecated in future releases.\n",
      "  two_dates['aired_begin'], two_dates['aired_end'] = two_dates['aired_string'].str.split('to', 1).str\n"
     ]
    }
   ],
   "source": [
    "# Data Frames\n",
    "df = pd.read_csv(ANIMELIST_FILE)\n",
    "df = process_animelist(df)\n",
    "\n"
   ]
  },
  {
   "cell_type": "code",
   "execution_count": 13,
   "id": "1bc70e36",
   "metadata": {},
   "outputs": [
    {
     "data": {
      "text/plain": [
       "55       {'Adaptation': [{'mal_id': 473, 'type': 'manga...\n",
       "56                                                     NaN\n",
       "59       {'Parent story': [{'mal_id': 2987, 'type': 'an...\n",
       "60       {'Sequel': [{'mal_id': 32189, 'type': 'anime',...\n",
       "61                                                     NaN\n",
       "                               ...                        \n",
       "14459                                                  NaN\n",
       "14460                                                  NaN\n",
       "14463                                                  NaN\n",
       "14464                                                  NaN\n",
       "14473    {'Other': [{'mal_id': 26087, 'type': 'anime', ...\n",
       "Name: related, Length: 14478, dtype: object"
      ]
     },
     "execution_count": 13,
     "metadata": {},
     "output_type": "execute_result"
    }
   ],
   "source": [
    "df['related']"
   ]
  },
  {
   "cell_type": "code",
   "execution_count": 12,
   "id": "dcd68b18",
   "metadata": {},
   "outputs": [
    {
     "name": "stdout",
     "output_type": "stream",
     "text": [
      "\tanime_id: 0 - 0 percent\n",
      "\ttype: 0 - 0 percent\n",
      "\tepisodes: 0 - 0 percent\n",
      "\tstatus: 0 - 0 percent\n",
      "\tduration: 405 - 3 percent\n",
      "\trating: 0 - 0 percent\n",
      "\tscore: 0 - 0 percent\n",
      "\tscored_by: 0 - 0 percent\n",
      "\trank: 1574 - 11 percent\n",
      "\tfavorites: 0 - 0 percent\n",
      "\trelated: 4515 - 31 percent\n",
      "\tproducer: 6190 - 43 percent\n",
      "\tstudio: 5934 - 41 percent\n",
      "\tgenre: 64 - 0 percent\n",
      "\taired_begin: 223 - 2 percent\n",
      "\taired_end: 7865 - 54 percent\n"
     ]
    }
   ],
   "source": [
    "df = df.replace('[]',np.NaN)\n",
    "for col in df.columns:\n",
    "    summ = df[col].isna().sum()\n",
    "    percentage = summ*100/14478\n",
    "    print('\\t%s: %d - %.0f percent' % (col,summ,percentage))\n",
    "    "
   ]
  },
  {
   "cell_type": "code",
   "execution_count": null,
   "id": "01d1c61e",
   "metadata": {},
   "outputs": [],
   "source": [
    "userlist_df = pd.read_csv(USERLIST_FILE)\n",
    "process_userlist(userlist_df)\n",
    "userlist_df.to_csv(FILTERED_DIR + \"UserListFiltered.csv\", index=False, encoding='utf-8')"
   ]
  },
  {
   "cell_type": "code",
   "execution_count": null,
   "id": "3492da35",
   "metadata": {},
   "outputs": [],
   "source": [
    "notaired_animelist_df = animelist_df[animelist_df['status'] == 'Not yet aired']\n",
    "notaired_ids = notaired_animelist_df['anime_id']"
   ]
  },
  {
   "cell_type": "code",
   "execution_count": null,
   "id": "6470dbea",
   "metadata": {},
   "outputs": [],
   "source": [
    "# Big CSV\n",
    "chunksize = 10 ** 6\n",
    "header = True\n",
    "useranimelist_reader = pd.read_csv(USERANIMELIST_FILE, chunksize=chunksize)\n",
    "for useranimelist_chunk in useranimelist_reader:\n",
    "    process_useranimelist(useranimelist_chunk)\n",
    "    useranimelist_chunk = useranimelist_chunk[~useranimelist_chunk['anime_id'].isin(notaired_ids)]\n",
    "    useranimelist_chunk.to_csv(FILTERED_DIR + \"UserAnimeListFiltered.csv\", index=False, encoding='utf-8', mode='a', header=header)\n",
    "    header = False"
   ]
  }
 ],
 "metadata": {
  "kernelspec": {
   "display_name": "Python 3 (ipykernel)",
   "language": "python",
   "name": "python3"
  },
  "language_info": {
   "codemirror_mode": {
    "name": "ipython",
    "version": 3
   },
   "file_extension": ".py",
   "mimetype": "text/x-python",
   "name": "python",
   "nbconvert_exporter": "python",
   "pygments_lexer": "ipython3",
   "version": "3.8.10"
  }
 },
 "nbformat": 4,
 "nbformat_minor": 5
}
